{
 "cells": [
  {
   "cell_type": "code",
   "execution_count": 1,
   "metadata": {},
   "outputs": [],
   "source": [
    "import os\n",
    "from binance.client import Client\n",
    "\n",
    "# 環境変数からAPIキーを取得\n",
    "api_key = os.getenv(\"BINANCE_API_KEY\")\n",
    "api_secret = os.getenv(\"BINANCE_API_SECRET\")\n",
    "\n",
    "# クライアントの初期化\n",
    "client = Client(api_key, api_secret)\n"
   ]
  },
  {
   "cell_type": "code",
   "execution_count": 2,
   "metadata": {},
   "outputs": [
    {
     "name": "stdout",
     "output_type": "stream",
     "text": [
      "\n",
      "===== 処理開始: 間隔 1hour =====\n",
      "--- BTCの価格データを取得中... ---\n",
      "Data successfully saved to M:\\ML\\Finance\\option\\output\\raw\\btcusdt_spot_prices_1h.parquet\n",
      "Data successfully saved to M:\\ML\\Finance\\option\\output\\raw\\btcusdt_futures_prices_1h.parquet\n",
      "現物価格データ: 1000行\n",
      "先物価格データ: 1000行\n",
      "\n",
      "--- ベーシスを計算中... ---\n",
      "Data successfully saved to M:\\ML\\Finance\\option\\output\\analysis\\basis_data_1hour.parquet\n",
      "ベーシスデータ: 1000行\n",
      "\n",
      "--- 分析を実行中... ---\n",
      "Data successfully saved to M:\\ML\\Finance\\option\\output\\analysis\\basis_statistics_1hour.parquet\n",
      "Data successfully saved to M:\\ML\\Finance\\option\\output\\analysis\\basis_with_ma_1hour.parquet\n",
      "ベーシスの基本統計量:\n",
      "            basis  basis_percent\n",
      "count  1000.00000     1000.00000\n",
      "mean    -40.43664       -0.04797\n",
      "std       8.57891        0.00971\n",
      "min    -114.10000       -0.12686\n",
      "25%     -45.74750       -0.05403\n",
      "50%     -40.00000       -0.04753\n",
      "75%     -35.23750       -0.04213\n",
      "max      11.10000        0.01371\n",
      "\n",
      "--- グラフを生成中... ---\n",
      "Loading analysis data: basis_with_ma_1hour\n",
      "Plotting columns: ['spot_close', 'futures_close', 'basis', 'basis_percent', 'basis_ma24', 'basis_percent_ma24']\n",
      "Plot saved to M:\\ML\\Finance\\option\\output\\plots\\basis_analysis_1hour.png\n",
      "価格比較グラフを保存しました: price_comparison_1hour.png\n",
      "出来高グラフを保存しました: volume_1hour.png\n",
      "価格/出来高グラフを保存しました: price_volume_1hour.png\n",
      "===== 処理終了: 間隔 1hour =====\n",
      "\n",
      "===== 処理開始: 間隔 1day =====\n",
      "--- BTCの価格データを取得中... ---\n",
      "Data successfully saved to M:\\ML\\Finance\\option\\output\\raw\\btcusdt_spot_prices_1d.parquet\n",
      "Data successfully saved to M:\\ML\\Finance\\option\\output\\raw\\btcusdt_futures_prices_1d.parquet\n",
      "現物価格データ: 1000行\n",
      "先物価格データ: 1000行\n",
      "\n",
      "--- ベーシスを計算中... ---\n",
      "Data successfully saved to M:\\ML\\Finance\\option\\output\\analysis\\basis_data_1day.parquet\n",
      "ベーシスデータ: 1000行\n",
      "\n",
      "--- 分析を実行中... ---\n",
      "Data successfully saved to M:\\ML\\Finance\\option\\output\\analysis\\basis_statistics_1day.parquet\n",
      "Data successfully saved to M:\\ML\\Finance\\option\\output\\analysis\\basis_with_ma_1day.parquet\n",
      "ベーシスの基本統計量:\n",
      "            basis  basis_percent\n",
      "count  1000.00000     1000.00000\n",
      "mean     -8.61592       -0.02406\n",
      "std      24.55846        0.04079\n",
      "min     -62.40000       -0.11185\n",
      "25%     -20.91500       -0.04942\n",
      "50%     -11.53000       -0.03989\n",
      "75%      -4.82000       -0.01616\n",
      "max      90.41000        0.11830\n",
      "\n",
      "--- グラフを生成中... ---\n",
      "Loading analysis data: basis_with_ma_1day\n",
      "Plotting columns: ['spot_close', 'futures_close', 'basis', 'basis_percent', 'basis_ma7', 'basis_percent_ma7']\n",
      "Plot saved to M:\\ML\\Finance\\option\\output\\plots\\basis_analysis_1day.png\n",
      "価格比較グラフを保存しました: price_comparison_1day.png\n",
      "出来高グラフを保存しました: volume_1day.png\n",
      "価格/出来高グラフを保存しました: price_volume_1day.png\n",
      "===== 処理終了: 間隔 1day =====\n",
      "\n",
      "--- 全ての処理が完了しました ---\n"
     ]
    }
   ],
   "source": [
    "from main import main\n",
    "main()"
   ]
  }
 ],
 "metadata": {
  "language_info": {
   "name": "python"
  }
 },
 "nbformat": 4,
 "nbformat_minor": 2
}
