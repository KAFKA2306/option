{
 "cells": [
  {
   "cell_type": "code",
   "execution_count": 1,
   "metadata": {},
   "outputs": [],
   "source": [
    "import os\n",
    "from binance.client import Client\n",
    "\n",
    "# 環境変数からAPIキーを取得\n",
    "api_key = os.getenv(\"BINANCE_API_KEY\")\n",
    "api_secret = os.getenv(\"BINANCE_API_SECRET\")\n",
    "\n",
    "# クライアントの初期化\n",
    "client = Client(api_key, api_secret)\n"
   ]
  },
  {
   "cell_type": "code",
   "execution_count": 2,
   "metadata": {},
   "outputs": [
    {
     "name": "stdout",
     "output_type": "stream",
     "text": [
      "BTCの価格データを取得中... (間隔: 1day)\n",
      "現物価格データ: 90行\n",
      "先物価格データ: 90行\n",
      "ベーシスを計算中...\n"
     ]
    },
    {
     "ename": "TypeError",
     "evalue": "save_data() got an unexpected keyword argument 'filename_only'",
     "output_type": "error",
     "traceback": [
      "\u001b[1;31m---------------------------------------------------------------------------\u001b[0m",
      "\u001b[1;31mTypeError\u001b[0m                                 Traceback (most recent call last)",
      "\u001b[1;32mm:\\ML\\Finance\\option\\src\\main.ipynb Cell 2\u001b[0m line \u001b[0;36m2\n\u001b[0;32m      <a href='vscode-notebook-cell:/m%3A/ML/Finance/option/src/main.ipynb#W1sZmlsZQ%3D%3D?line=0'>1</a>\u001b[0m \u001b[39mfrom\u001b[39;00m\u001b[39m \u001b[39m\u001b[39mmain\u001b[39;00m\u001b[39m \u001b[39m\u001b[39mimport\u001b[39;00m main\n\u001b[1;32m----> <a href='vscode-notebook-cell:/m%3A/ML/Finance/option/src/main.ipynb#W1sZmlsZQ%3D%3D?line=1'>2</a>\u001b[0m main()\n",
      "File \u001b[1;32mm:\\ML\\Finance\\option\\src\\main.py:21\u001b[0m, in \u001b[0;36mmain\u001b[1;34m()\u001b[0m\n\u001b[0;32m     18\u001b[0m \u001b[39mprint\u001b[39m(\u001b[39mf\u001b[39m\u001b[39m\"\u001b[39m\u001b[39m先物価格データ: \u001b[39m\u001b[39m{\u001b[39;00m\u001b[39mlen\u001b[39m(futures_df)\u001b[39m}\u001b[39;00m\u001b[39m行\u001b[39m\u001b[39m\"\u001b[39m)\n\u001b[0;32m     20\u001b[0m \u001b[39mprint\u001b[39m(\u001b[39m\"\u001b[39m\u001b[39mベーシスを計算中...\u001b[39m\u001b[39m\"\u001b[39m)\n\u001b[1;32m---> 21\u001b[0m basis_df \u001b[39m=\u001b[39m calculate_basis(spot_df, futures_df, interval\u001b[39m=\u001b[39;49minterval)\n\u001b[0;32m     22\u001b[0m \u001b[39mprint\u001b[39m(\u001b[39mf\u001b[39m\u001b[39m\"\u001b[39m\u001b[39mベーシスデータ: \u001b[39m\u001b[39m{\u001b[39;00m\u001b[39mlen\u001b[39m(basis_df)\u001b[39m}\u001b[39;00m\u001b[39m行\u001b[39m\u001b[39m\"\u001b[39m)\n\u001b[0;32m     24\u001b[0m \u001b[39mprint\u001b[39m(\u001b[39m\"\u001b[39m\u001b[39m分析を実行中...\u001b[39m\u001b[39m\"\u001b[39m)\n",
      "File \u001b[1;32mm:\\ML\\Finance\\option\\src\\analysis.py:29\u001b[0m, in \u001b[0;36mcalculate_basis\u001b[1;34m(spot_df, futures_df, interval)\u001b[0m\n\u001b[0;32m     26\u001b[0m merged_df[\u001b[39m'\u001b[39m\u001b[39mbasis\u001b[39m\u001b[39m'\u001b[39m] \u001b[39m=\u001b[39m merged_df[\u001b[39m'\u001b[39m\u001b[39mfutures_close\u001b[39m\u001b[39m'\u001b[39m] \u001b[39m-\u001b[39m merged_df[\u001b[39m'\u001b[39m\u001b[39mspot_close\u001b[39m\u001b[39m'\u001b[39m]\n\u001b[0;32m     27\u001b[0m merged_df[\u001b[39m'\u001b[39m\u001b[39mbasis_percent\u001b[39m\u001b[39m'\u001b[39m] \u001b[39m=\u001b[39m (merged_df[\u001b[39m'\u001b[39m\u001b[39mbasis\u001b[39m\u001b[39m'\u001b[39m] \u001b[39m/\u001b[39m merged_df[\u001b[39m'\u001b[39m\u001b[39mspot_close\u001b[39m\u001b[39m'\u001b[39m]) \u001b[39m*\u001b[39m \u001b[39m100\u001b[39m\n\u001b[1;32m---> 29\u001b[0m save_data(merged_df, \u001b[39m\"\u001b[39;49m\u001b[39mprocessed\u001b[39;49m\u001b[39m\"\u001b[39;49m, \u001b[39mf\u001b[39;49m\u001b[39m\"\u001b[39;49m\u001b[39mbtc_basis_\u001b[39;49m\u001b[39m{\u001b[39;49;00minterval_str\u001b[39m}\u001b[39;49;00m\u001b[39m\"\u001b[39;49m, filename_only\u001b[39m=\u001b[39;49m\u001b[39mTrue\u001b[39;49;00m)\n\u001b[0;32m     31\u001b[0m \u001b[39mreturn\u001b[39;00m merged_df\n",
      "\u001b[1;31mTypeError\u001b[0m: save_data() got an unexpected keyword argument 'filename_only'"
     ]
    }
   ],
   "source": [
    "from main import main\n",
    "main()"
   ]
  },
  {
   "cell_type": "code",
   "execution_count": null,
   "metadata": {},
   "outputs": [],
   "source": []
  }
 ],
 "metadata": {
  "language_info": {
   "name": "python"
  }
 },
 "nbformat": 4,
 "nbformat_minor": 2
}
